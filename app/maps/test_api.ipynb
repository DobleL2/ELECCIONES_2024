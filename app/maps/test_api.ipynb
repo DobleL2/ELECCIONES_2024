{
 "cells": [
  {
   "cell_type": "code",
   "execution_count": 2,
   "metadata": {},
   "outputs": [
    {
     "name": "stdout",
     "output_type": "stream",
     "text": [
      "Collecting requests\n",
      "  Using cached requests-2.31.0-py3-none-any.whl.metadata (4.6 kB)\n",
      "Collecting charset-normalizer<4,>=2 (from requests)\n",
      "  Using cached charset_normalizer-3.3.2-cp312-cp312-win_amd64.whl.metadata (34 kB)\n",
      "Collecting idna<4,>=2.5 (from requests)\n",
      "  Using cached idna-3.7-py3-none-any.whl.metadata (9.9 kB)\n",
      "Collecting urllib3<3,>=1.21.1 (from requests)\n",
      "  Using cached urllib3-2.2.1-py3-none-any.whl.metadata (6.4 kB)\n",
      "Collecting certifi>=2017.4.17 (from requests)\n",
      "  Using cached certifi-2024.2.2-py3-none-any.whl.metadata (2.2 kB)\n",
      "Using cached requests-2.31.0-py3-none-any.whl (62 kB)\n",
      "Using cached certifi-2024.2.2-py3-none-any.whl (163 kB)\n",
      "Using cached charset_normalizer-3.3.2-cp312-cp312-win_amd64.whl (100 kB)\n",
      "Using cached idna-3.7-py3-none-any.whl (66 kB)\n",
      "Using cached urllib3-2.2.1-py3-none-any.whl (121 kB)\n",
      "Installing collected packages: urllib3, idna, charset-normalizer, certifi, requests\n",
      "Successfully installed certifi-2024.2.2 charset-normalizer-3.3.2 idna-3.7 requests-2.31.0 urllib3-2.2.1\n"
     ]
    }
   ],
   "source": [
    "!pip install requests"
   ]
  },
  {
   "cell_type": "code",
   "execution_count": 11,
   "metadata": {},
   "outputs": [
    {
     "name": "stdout",
     "output_type": "stream",
     "text": [
      "Request was successful!\n",
      "{\"NSF\":null,\"CORDIS\":null,\"NIH\":{\"num_page\":1,\"max_num_page\":1,\"next\":null,\"data\":[{\"Title\":\"Head mounted display apparatus for visual field test\",\"Organization\":\"intel corporation\",\"Role\":\"Not Information\",\"Total Cost\":1580.0},{\"Title\":\"Knowledge discovery portal for biomedical research\",\"Organization\":\"intel corporation\",\"Role\":\"Not Information\",\"Total Cost\":193702.0},{\"Title\":\"Knowledge discovery portal for biomedical research\",\"Organization\":\"intel corporation\",\"Role\":\"Not Information\",\"Total Cost\":193758.0},{\"Title\":\"Diagnostic Aid Software for Visual Field Test\",\"Organization\":\"intel corporation\",\"Role\":\"Not Information\",\"Total Cost\":99681.0}]}}\n"
     ]
    }
   ],
   "source": [
    "import requests\n",
    "\n",
    "id_inst = 'test-NIH'\n",
    "\n",
    "# Define the base URL\n",
    "url = f'https://proj-new-dev.aakscience.com/ruta1/projects_db/inst/input/?id_inst={id_inst}'\n",
    "\n",
    "# Send the GET request with parameters\n",
    "response = requests.post(url)\n",
    "\n",
    "# Check the status of the response\n",
    "if response.status_code == 200:\n",
    "    print('Request was successful!')\n",
    "    # Access and print the response content\n",
    "    print(response.text)\n",
    "else:\n",
    "    print('Request failed with status code:', response.status_code) #`"
   ]
  }
 ],
 "metadata": {
  "kernelspec": {
   "display_name": "Python 3",
   "language": "python",
   "name": "python3"
  },
  "language_info": {
   "codemirror_mode": {
    "name": "ipython",
    "version": 3
   },
   "file_extension": ".py",
   "mimetype": "text/x-python",
   "name": "python",
   "nbconvert_exporter": "python",
   "pygments_lexer": "ipython3",
   "version": "3.12.2"
  }
 },
 "nbformat": 4,
 "nbformat_minor": 2
}
